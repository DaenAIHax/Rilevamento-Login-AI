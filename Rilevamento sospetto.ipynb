{
 "cells": [
  {
   "cell_type": "markdown",
   "id": "5cd80cd4-919d-4703-9dc0-71a4e9fdc6a6",
   "metadata": {},
   "source": [
    "RILEVAMENTO DATI SOSPETTI (PANDAS PROJECT)"
   ]
  },
  {
   "cell_type": "markdown",
   "id": "220e513f-96dc-496f-bc72-544502510844",
   "metadata": {},
   "source": [
    "Dati contengoono:\n",
    "timestamp, ip_address, user_id, success(true o false)"
   ]
  },
  {
   "cell_type": "code",
   "execution_count": 15,
   "id": "38863d6e-09b1-4de1-8121-5080eca4ddde",
   "metadata": {},
   "outputs": [
    {
     "name": "stdout",
     "output_type": "stream",
     "text": [
      "             timestamp     ip_address user_id  success\n",
      "0  2025-04-20 09:01:00  200.124.23.45  user_1    False\n",
      "1  2025-04-20 09:02:00    192.168.1.2  user_2     True\n",
      "2  2025-04-20 09:03:00  200.124.23.45  user_1    False\n",
      "3  2025-04-20 09:04:00  200.124.23.45  user_1    False\n",
      "4  2025-04-20 09:05:00  200.124.23.45  user_1    False\n"
     ]
    }
   ],
   "source": [
    "#importiamo pandas\n",
    "import pandas as pd\n",
    "\n",
    "#creare vocabolario\n",
    "data = {\n",
    "    'timestamp': ['2025-04-20 09:01:00', '2025-04-20 09:02:00', '2025-04-20 09:03:00', '2025-04-20 09:04:00', '2025-04-20 09:05:00'],\n",
    "    'ip_address': ['200.124.23.45', '192.168.1.2','200.124.23.45', '200.124.23.45', '200.124.23.45'],\n",
    "    'user_id': ['user_1', 'user_2', 'user_1', 'user_1', 'user_1'],\n",
    "    'success': [False, True, False, False, False]\n",
    "}\n",
    "\n",
    "#creare il dataframe\n",
    "\n",
    "df = pd.DataFrame(data)\n",
    "print(df)"
   ]
  },
  {
   "cell_type": "markdown",
   "id": "dc90b260-1697-4f31-b1dc-f88347c782f4",
   "metadata": {},
   "source": [
    "PREPROCESSING DATA:\n",
    "Convertire il timstamp in formato data e ora che pandas puo fare.\n",
    "Creare una colonna con il numero di tentativi di accesso per ogni indirizzo IP."
   ]
  },
  {
   "cell_type": "code",
   "execution_count": 16,
   "id": "61e5a7aa-a98e-40dd-bc23-dd68de31f3db",
   "metadata": {},
   "outputs": [
    {
     "name": "stdout",
     "output_type": "stream",
     "text": [
      "            timestamp     ip_address user_id  success  failed_attempts\n",
      "0 2025-04-20 09:01:00  200.124.23.45  user_1    False                1\n",
      "1 2025-04-20 09:02:00    192.168.1.2  user_2     True                0\n",
      "2 2025-04-20 09:03:00  200.124.23.45  user_1    False                2\n",
      "3 2025-04-20 09:04:00  200.124.23.45  user_1    False                3\n",
      "4 2025-04-20 09:05:00  200.124.23.45  user_1    False                4\n"
     ]
    }
   ],
   "source": [
    "df['timestamp'] = pd.to_datetime(df['timestamp'])\n",
    "\n",
    "# Creare una colonna che conta i fallimenti per ogni IP\n",
    "df['failed_attempts'] = df.groupby('ip_address')['success'].transform(lambda x: (x == False).cumsum())\n",
    "#creaimo una colonna chiamata tentativi falliti, che conta i tentativi falliti di ogni indirizzo ip\n",
    "#groupby crea dei sottogruppi, in questo caso crea due sottogruppi di indirizzi ip(200.124.23.45, 192.168.1.2)\n",
    "#dopo aver raggruppato accediamo alla colonna success\n",
    "#Applica una trasformazione su ogni gruppo (quindi su ogni lista di success per IP), e mantiene l'indice originale.(lambda è una funzione usa e getta)\n",
    "#(x == False): Questo è un confronto booleano che restituisce una Serie di True/False, indicando dove l'accesso è fallito:\n",
    "#cumsum(): Calcola la somma cumulativa (cumulative sum), cioè il conteggio progressivo dei True (che rappresentano i fallimenti).\n",
    "\n",
    "print(df)\n"
   ]
  },
  {
   "cell_type": "code",
   "execution_count": 17,
   "id": "2f54721e-60b4-433b-ad9b-60f1e96cc687",
   "metadata": {},
   "outputs": [
    {
     "name": "stdout",
     "output_type": "stream",
     "text": [
      "            timestamp     ip_address user_id  success  failed_attempts  \\\n",
      "4 2025-04-20 09:05:00  200.124.23.45  user_1    False                4   \n",
      "\n",
      "   suspicious  \n",
      "4        True  \n"
     ]
    }
   ],
   "source": [
    "# Identificare tentativi sospetti\n",
    "df['suspicious'] = (df['failed_attempts'] > 3) & (df['success'] == False)\n",
    "\n",
    "# Visualizzare le righe sospette\n",
    "suspicious_attempts = df[df['suspicious'] == True]\n",
    "print(suspicious_attempts)\n"
   ]
  },
  {
   "cell_type": "code",
   "execution_count": 18,
   "id": "a16ea22d-0f3f-4ecf-9ba6-6d0e99b6e4bb",
   "metadata": {},
   "outputs": [
    {
     "data": {
      "image/png": "[encoded data removed]",
      "text/plain": [
       "<Figure size 640x480 with 1 Axes>"
      ]
     },
     "metadata": {},
     "output_type": "display_data"
    }
   ],
   "source": [
    "import matplotlib.pyplot as plt\n",
    "\n",
    "# Visualizzare il numero di tentativi falliti per IP\n",
    "attempts_by_ip = df.groupby('ip_address')['failed_attempts'].max()\n",
    "attempts_by_ip.plot(kind='bar', color='red')\n",
    "plt.title(\"Numero di tentativi falliti per IP\")\n",
    "plt.xlabel(\"IP Address\")\n",
    "plt.ylabel(\"Tentativi Falliti\")\n",
    "plt.show()\n"
   ]
  },
  {
   "cell_type": "code",
   "execution_count": 19,
   "id": "412dbf4d-dd5b-484e-9316-7694aed63770",
   "metadata": {},
   "outputs": [
    {
     "name": "stdout",
     "output_type": "stream",
     "text": [
      "Accuracy: 0.5\n"
     ]
    }
   ],
   "source": [
    "from sklearn.ensemble import RandomForestClassifier\n",
    "from sklearn.model_selection import train_test_split\n",
    "from sklearn.metrics import accuracy_score\n",
    "\n",
    "# Creare variabili di input (features) e target (etichetta)\n",
    "X = df[['failed_attempts']]\n",
    "y = df['success']\n",
    "\n",
    "# Dividere i dati in training e test set\n",
    "X_train, X_test, y_train, y_test = train_test_split(X, y, test_size=0.3, random_state=42)\n",
    "\n",
    "# Creare e addestrare il modello\n",
    "model = RandomForestClassifier()\n",
    "model.fit(X_train, y_train)\n",
    "\n",
    "# Fare previsioni e calcolare l'accuratezza\n",
    "y_pred = model.predict(X_test)\n",
    "print(f\"Accuracy: {accuracy_score(y_test, y_pred)}\")\n"
   ]
  },
  {
   "cell_type": "code",
   "execution_count": null,
   "id": "4222e486-f6a6-448c-8ae8-1dbef1f2b7c9",
   "metadata": {},
   "outputs": [],
   "source": [
    "print(\"Valori previsti:\", y_pred)\n",
    "print(\"Valori reali:   \", y_test.values)\n"
   ]
  },
  {
   "cell_type": "code",
   "execution_count": null,
   "id": "29ee4c36-cbd9-4655-a462-04169941caea",
   "metadata": {},
   "outputs": [],
   "source": [
    "from sklearn.metrics import confusion_matrix\n",
    "print(confusion_matrix(y_test, y_pred))\n"
   ]
  },
  {
   "cell_type": "code",
   "execution_count": null,
   "id": "956a1c79-5dc7-4fa3-b7ac-2368e93315b0",
   "metadata": {},
   "outputs": [],
   "source": []
  }
 ],
 "metadata": {
  "kernelspec": {
   "display_name": "Python 3 (ipykernel)",
   "language": "python",
   "name": "python3"
  },
  "language_info": {
   "codemirror_mode": {
    "name": "ipython",
    "version": 3
   },
   "file_extension": ".py",
   "mimetype": "text/x-python",
   "name": "python",
   "nbconvert_exporter": "python",
   "pygments_lexer": "ipython3",
   "version": "3.11.11"
  }
 },
 "nbformat": 4,
 "nbformat_minor": 5
}
